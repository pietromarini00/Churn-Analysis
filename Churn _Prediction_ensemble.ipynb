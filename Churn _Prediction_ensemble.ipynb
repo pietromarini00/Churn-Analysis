{
 "cells": [
  {
   "cell_type": "markdown",
   "metadata": {},
   "source": [
    "# November hackathon: Costumer Churn Analysis\n",
    "\n",
    "This is the solution to the November hackathon of BDSD designed by Pietro Marini,\n",
    "Lorenzo d'Imporzano and Mattia Ravasio. The competition is based on a case of costumer churn analysis in which we want to predict if a costumer if going to exit from a telecommunication contract."
   ]
  },
  {
   "cell_type": "markdown",
   "metadata": {},
   "source": [
    "## Data preparation\n",
    "\n",
    "We started off by importing some necessary libraries and the dataset"
   ]
  },
  {
   "cell_type": "code",
   "execution_count": 15,
   "metadata": {},
   "outputs": [],
   "source": [
    "import pandas as pd\n",
    "import numpy as np\n",
    "from xgboost import XGBClassifier\n",
    "from sklearn.preprocessing import OneHotEncoder\n",
    "from sklearn.model_selection import train_test_split \n",
    "from sklearn.preprocessing import OneHotEncoder\n",
    "from sklearn.ensemble import RandomForestClassifier\n",
    "from sklearn import metrics\n",
    "from sklearn.svm import SVC\n",
    "from sklearn.model_selection import cross_val_score\n",
    "from sklearn.linear_model import LogisticRegression\n",
    "from sklearn.model_selection import GridSearchCV\n",
    "from sklearn import ensemble\n",
    "from sklearn.neighbors import KNeighborsClassifier\n",
    "from sklearn.discriminant_analysis import LinearDiscriminantAnalysis\n",
    "from sklearn.linear_model import LogisticRegression\n",
    "from sklearn.svm import SVC\n",
    "from sklearn.neighbors import KNeighborsClassifier\n",
    "from sklearn.naive_bayes import GaussianNB\n",
    "from sklearn.tree import DecisionTreeClassifier\n",
    "from sklearn.model_selection import GridSearchCV\n",
    "from sklearn.model_selection import ShuffleSplit\n",
    "from sklearn.model_selection import KFold\n",
    "from sklearn import feature_selection\n",
    "from sklearn import model_selection\n",
    "from sklearn import metrics\n",
    "from sklearn.metrics import classification_report, precision_recall_curve\n",
    "from sklearn.metrics import auc, roc_auc_score, roc_curve\n",
    "from sklearn.metrics import make_scorer, recall_score, log_loss\n",
    "from sklearn.metrics import average_precision_score\n",
    "data= pd.read_csv('BSDS_November.csv')"
   ]
  },
  {
   "cell_type": "markdown",
   "metadata": {},
   "source": [
    "After analyzing the dataset and understanding that there are no missing values we decided to extract the dummy variables, whenever possible, from the following categorical variables. We decided to proceed in this way becuase the following variables only presented two different options, for exapmle: \n",
    "'Gender' is either 'Female' or 'Male', 'Partner' was either 'Yes' or 'No', 'PhoneService' was either 'Yes' or 'No' and even 'Churn' , our target,  was either 'Yes' or 'No':"
   ]
  },
  {
   "cell_type": "code",
   "execution_count": 16,
   "metadata": {},
   "outputs": [],
   "source": [
    "data = data.assign(outcome=(data['Churn'] == 'Yes').astype(int))\n",
    "data = data.assign(genderbool=(data['gender'] == 'Female').astype(int))\n",
    "data = data.assign(Partnerbool=(data['Partner'] == 'Yes').astype(int))\n",
    "data = data.assign(PhoneServicebool=(data['PhoneService'] == 'Yes').astype(int))"
   ]
  },
  {
   "cell_type": "markdown",
   "metadata": {},
   "source": [
    "We then dropped the old categorical columns:"
   ]
  },
  {
   "cell_type": "code",
   "execution_count": 17,
   "metadata": {},
   "outputs": [],
   "source": [
    "data=data.drop('Churn',axis=1)\n",
    "data=data.drop('gender',axis=1)\n",
    "data=data.drop('Partner',axis=1)\n",
    "data=data.drop('PhoneService',axis=1)"
   ]
  },
  {
   "cell_type": "markdown",
   "metadata": {},
   "source": [
    "We noticed the presence of an empty string in the column 'TotalCharges' so we decided to substitute it with the mean of the same variable: "
   ]
  },
  {
   "cell_type": "code",
   "execution_count": 18,
   "metadata": {},
   "outputs": [],
   "source": [
    "data.TotalCharges=data.TotalCharges.replace(to_replace=' ',value=0.0).astype(float)\n",
    "mean=data.TotalCharges.mean()\n",
    "data.TotalCharges=data.TotalCharges.replace(to_replace=' ',value=mean).astype(float)"
   ]
  },
  {
   "cell_type": "markdown",
   "metadata": {},
   "source": [
    "We finally were able to differenciate and splitted the varibales:"
   ]
  },
  {
   "cell_type": "code",
   "execution_count": 31,
   "metadata": {},
   "outputs": [],
   "source": [
    "y=data.outcome\n",
    "bsds_features=['genderbool', 'Partnerbool', 'PhoneServicebool', 'InternetService',\n",
    "               'OnlineSecurity', 'Contract', 'PaymentMethod', 'MonthlyCharges','TotalCharges'] \n",
    "X=data[bsds_features] \n",
    "train_X,val_X, train_y, val_y=train_test_split(X,y,train_size=0.9, test_size=0.1)"
   ]
  },
  {
   "cell_type": "markdown",
   "metadata": {},
   "source": [
    "We dealed with object columns using one-Hot-Encoding:"
   ]
  },
  {
   "cell_type": "code",
   "execution_count": 32,
   "metadata": {},
   "outputs": [],
   "source": [
    "object_cols=['InternetService','OnlineSecurity', 'Contract', 'PaymentMethod']\n",
    "\n",
    "OH_encoder = OneHotEncoder(handle_unknown='ignore', sparse=False)\n",
    "OH_cols_train = pd.DataFrame(OH_encoder.fit_transform(train_X[object_cols]))\n",
    "OH_cols_valid = pd.DataFrame(OH_encoder.transform(val_X[object_cols]))\n",
    "\n",
    "OH_cols_train.index = train_X.index\n",
    "OH_cols_valid.index = val_X.index\n",
    "\n",
    "num_X_train = train_X.drop(object_cols, axis=1)\n",
    "num_X_valid = val_X.drop(object_cols, axis=1)\n",
    "\n",
    "OH_X_train = pd.concat([num_X_train, OH_cols_train], axis=1)\n",
    "OH_X_valid = pd.concat([num_X_valid, OH_cols_valid], axis=1)\n",
    "OH_X=pd.concat([OH_X_train,OH_X_valid])"
   ]
  },
  {
   "cell_type": "markdown",
   "metadata": {},
   "source": [
    "## Model Selection"
   ]
  },
  {
   "cell_type": "markdown",
   "metadata": {},
   "source": [
    "In order to tune the Hyperparameters we runned a GridSearchCV on the different models (we won't report then since they are very costly from a computational point of view). We then perfermed the following procedure using the previous GridSearchCV results to understand which of the models was the best performing using both ROC_AUC and Accuracy:"
   ]
  },
  {
   "cell_type": "code",
   "execution_count": 42,
   "metadata": {},
   "outputs": [
    {
     "name": "stdout",
     "output_type": "stream",
     "text": [
      "Algorithm        Logistic Regression\n",
      "ROC AUC Mean                   81.87\n",
      "ROC AUC STD                     1.03\n",
      "Accuracy Mean                  78.95\n",
      "Accuracy STD                    0.63\n",
      "Name: 0, dtype: object\n",
      "\n",
      "\n",
      "Algorithm        Kernel SVM\n",
      "ROC AUC Mean          78.17\n",
      "ROC AUC STD            1.78\n",
      "Accuracy Mean         73.34\n",
      "Accuracy STD           1.17\n",
      "Name: 0, dtype: object\n",
      "\n",
      "\n",
      "Algorithm          KNN\n",
      "ROC AUC Mean     73.94\n",
      "ROC AUC STD       1.98\n",
      "Accuracy Mean    75.88\n",
      "Accuracy STD      0.95\n",
      "Name: 0, dtype: object\n",
      "\n",
      "\n",
      "Algorithm        Gaussian NB\n",
      "ROC AUC Mean           81.74\n",
      "ROC AUC STD             0.95\n",
      "Accuracy Mean          72.62\n",
      "Accuracy STD            0.92\n",
      "Name: 0, dtype: object\n",
      "\n",
      "\n",
      "Algorithm        Decision Tree Classifier\n",
      "ROC AUC Mean                        65.02\n",
      "ROC AUC STD                          1.98\n",
      "Accuracy Mean                       72.03\n",
      "Accuracy STD                         2.19\n",
      "Name: 0, dtype: object\n",
      "\n",
      "\n",
      "Algorithm        Random Forest\n",
      "ROC AUC Mean             82.84\n",
      "ROC AUC STD               1.51\n",
      "Accuracy Mean               79\n",
      "Accuracy STD               0.8\n",
      "Name: 0, dtype: object\n",
      "\n",
      "\n",
      "Algorithm        XGBClassifier\n",
      "ROC AUC Mean             83.96\n",
      "ROC AUC STD               1.16\n",
      "Accuracy Mean            79.82\n",
      "Accuracy STD              0.28\n",
      "Name: 0, dtype: object\n",
      "\n",
      "\n"
     ]
    }
   ],
   "source": [
    "models = []\n",
    "models.append(('Logistic Regression', LogisticRegression(C=0.004832930238571752,  max_iter=5000,)))\n",
    "models.append(('Kernel SVM', SVC(kernel = 'rbf', random_state = 0)))\n",
    "models.append(('KNN', KNeighborsClassifier(n_neighbors = 5, metric = 'minkowski', p = 2)))\n",
    "models.append(('Gaussian NB', GaussianNB()))\n",
    "models.append(('Decision Tree Classifier',DecisionTreeClassifier(criterion = 'entropy', random_state = 0)))\n",
    "models.append(('Random Forest', RandomForestClassifier(n_estimators=17, max_depth=10, max_features='sqrt',min_samples_leaf=4 , random_state = 0)))\n",
    "models.append(('XGBClassifier', XGBClassifier(max_depth=1,learning_rate=0.15,n_estimators=200)))\n",
    "\n",
    "acc_results = []\n",
    "auc_results = []\n",
    "names = []\n",
    "\n",
    "col = ['Algorithm', 'ROC AUC Mean', 'ROC AUC STD', \n",
    "       'Accuracy Mean', 'Accuracy STD']\n",
    "model_results = pd.DataFrame(columns=col)\n",
    "i = 0\n",
    "\n",
    "for j in range(len(models)):\n",
    "    kfold = model_selection.KFold(n_splits=5)\n",
    "\n",
    "    cv_acc_results = model_selection.cross_val_score(models[j][1], OH_X_train, train_y, cv=kfold, scoring='accuracy')\n",
    " \n",
    "    cv_auc_results = model_selection.cross_val_score(models[j][1], OH_X_train, train_y, cv=kfold, scoring='roc_auc')\n",
    "    acc_results.append(cv_acc_results)\n",
    "    auc_results.append(cv_auc_results)\n",
    "    names.append(models[j][0])\n",
    "    model_results.loc[i] = [models[j][0],\n",
    "                            round(cv_auc_results.mean()*100, 2),\n",
    "                            round(cv_auc_results.std()*100, 2),\n",
    "                            round(cv_acc_results.mean()*100, 2),\n",
    "                            round(cv_acc_results.std()*100, 2)\n",
    "                            ]\n",
    "    print(model_results.loc[i])\n",
    "    print('\\n')"
   ]
  },
  {
   "cell_type": "markdown",
   "metadata": {},
   "source": [
    "We can even visualize the box plots:"
   ]
  },
  {
   "cell_type": "code",
   "execution_count": 8,
   "metadata": {},
   "outputs": [
    {
     "data": {
      "image/png": "[encoded data removed]",
      "text/plain": [
       "<Figure size 1080x504 with 1 Axes>"
      ]
     },
     "metadata": {
      "needs_background": "light"
     },
     "output_type": "display_data"
    }
   ],
   "source": [
    "import matplotlib.pyplot as plt\n",
    "fig = plt.figure(figsize=(15, 7))\n",
    "ax = fig.add_subplot(111)\n",
    "plt.boxplot(acc_results)\n",
    "ax.set_xticklabels(names)\n",
    "plt.ylabel('ROC AUC Score\\n', horizontalalignment=\"center\",fontstyle = \"normal\", fontsize = \"large\", fontfamily = \"sans-serif\")\n",
    "plt.xlabel('\\n Baseline Classification Algorithms\\n', horizontalalignment=\"center\",fontstyle = \"normal\", fontsize = \"large\", fontfamily = \"sans-serif\")\n",
    "plt.title('Accuracy Score Comparison \\n', horizontalalignment=\"center\", fontstyle = \"normal\", fontsize = \"22\", fontfamily = \"sans-serif\")\n",
    "#plt.legend(loc='top right', fontsize = \"medium\")\n",
    "plt.xticks(rotation=0, horizontalalignment=\"center\")\n",
    "plt.yticks(rotation=0, horizontalalignment=\"right\")\n",
    "plt.show()"
   ]
  },
  {
   "cell_type": "markdown",
   "metadata": {},
   "source": [
    "## Model Improvements"
   ]
  },
  {
   "cell_type": "markdown",
   "metadata": {},
   "source": [
    "Form this analysis we can see that XGBClassifier is the best performing model, followed by Random Forest and Logistic Regression. We therfore decided to predict with theese three models the churn, with an auxiliary function taking in consideration only the most common results across the different models:"
   ]
  },
  {
   "cell_type": "code",
   "execution_count": 40,
   "metadata": {},
   "outputs": [],
   "source": [
    "forest_model=RandomForestClassifier(max_depth=10, max_features='sqrt', min_samples_leaf=4,\n",
    "                       n_estimators=17)\n",
    "forest_model.fit(OH_X_train, train_y)\n",
    "forest_model_preds=forest_model.predict(OH_X_valid)\n",
    "\n",
    "logistic_model=LogisticRegression(C=0.004832930238571752, max_iter=5000)\n",
    "logistic_model.fit(OH_X_train, train_y)\n",
    "logistic_model_preds=logistic_model.predict(OH_X_valid)\n",
    "\n",
    "XGB_model=XGBClassifier(max_depth=1,learning_rate=0.15,n_estimators=200)\n",
    "XGB_model.fit(OH_X_train, train_y)\n",
    "XGB_model_preds=XGB_model.predict(OH_X_valid)\n",
    "\n",
    "def most_common_prediction(pred_a, pred_b, pred_c):\n",
    "    most_predicted = np.zeros(len(pred_a), dtype = int)\n",
    "    for i in range(len(pred_a)):\n",
    "        if pred_a[i] + pred_b[i] + pred_c[i] > 1:\n",
    "            most_predicted[i] = 1\n",
    "    return most_predicted\n",
    "\n",
    "final_predict=most_common_prediction(XGB_model_preds, logistic_model_preds,forest_model_preds)"
   ]
  },
  {
   "cell_type": "markdown",
   "metadata": {},
   "source": [
    "The accuracy score of this procedure will be:"
   ]
  },
  {
   "cell_type": "code",
   "execution_count": 41,
   "metadata": {},
   "outputs": [
    {
     "data": {
      "text/plain": [
       "0.8158379373848987"
      ]
     },
     "execution_count": 41,
     "metadata": {},
     "output_type": "execute_result"
    }
   ],
   "source": [
    "metrics.accuracy_score(val_y, final_predict)"
   ]
  },
  {
   "cell_type": "markdown",
   "metadata": {},
   "source": [
    "We will now fit the modes on the whole dataset in order to hvae a better accuracy for the competition:"
   ]
  },
  {
   "cell_type": "code",
   "execution_count": 43,
   "metadata": {
    "collapsed": true
   },
   "outputs": [
    {
     "data": {
      "text/plain": [
       "XGBClassifier(base_score=0.5, booster='gbtree', colsample_bylevel=1,\n",
       "              colsample_bynode=1, colsample_bytree=1, gamma=0, gpu_id=-1,\n",
       "              importance_type='gain', interaction_constraints='',\n",
       "              learning_rate=0.15, max_delta_step=0, max_depth=1,\n",
       "              min_child_weight=1, missing=nan, monotone_constraints='()',\n",
       "              n_estimators=200, n_jobs=0, num_parallel_tree=1, random_state=0,\n",
       "              reg_alpha=0, reg_lambda=1, scale_pos_weight=1, subsample=1,\n",
       "              tree_method='exact', validate_parameters=1, verbosity=None)"
      ]
     },
     "execution_count": 43,
     "metadata": {},
     "output_type": "execute_result"
    }
   ],
   "source": [
    "forest_model=RandomForestClassifier(max_depth=10, max_features='sqrt', min_samples_leaf=4,\n",
    "                       n_estimators=17)\n",
    "forest_model.fit(OH_X,y)\n",
    "\n",
    "logistic_model=LogisticRegression(C=0.004832930238571752, max_iter=5000)\n",
    "logistic_model.fit(OH_X,y)\n",
    "\n",
    "XGB_model=XGBClassifier(max_depth=1,learning_rate=0.15,n_estimators=200)\n",
    "XGB_model.fit(OH_X,y)"
   ]
  },
  {
   "cell_type": "markdown",
   "metadata": {},
   "source": [
    "## Conclusions"
   ]
  },
  {
   "cell_type": "markdown",
   "metadata": {},
   "source": [
    "After the improvements we finally have a Machine Learning Algorithm that given the dataset have a 0.8023598820058997 accuracy score when predicting costumer churn."
   ]
  },
  {
   "cell_type": "markdown",
   "metadata": {},
   "source": [
    "## Competition Algorithm"
   ]
  },
  {
   "cell_type": "markdown",
   "metadata": {},
   "source": [
    "This is the final version of the algorithm for the competition, you shall run this algorithm with the competition dataset as imput:"
   ]
  },
  {
   "cell_type": "code",
   "execution_count": null,
   "metadata": {},
   "outputs": [],
   "source": [
    "import pandas as pd\n",
    "import numpy as np\n",
    "from xgboost import XGBClassifier\n",
    "from sklearn.preprocessing import OneHotEncoder\n",
    "from sklearn.model_selection import train_test_split \n",
    "from sklearn.preprocessing import OneHotEncoder\n",
    "from sklearn.ensemble import RandomForestClassifier\n",
    "from sklearn import metrics\n",
    "from sklearn.svm import SVC\n",
    "from sklearn.model_selection import cross_val_score\n",
    "from sklearn.linear_model import LogisticRegression\n",
    "from sklearn.model_selection import GridSearchCV\n",
    "from sklearn import ensemble\n",
    "from sklearn.neighbors import KNeighborsClassifier\n",
    "from sklearn.discriminant_analysis import LinearDiscriminantAnalysis\n",
    "from sklearn.linear_model import LogisticRegression\n",
    "from sklearn.svm import SVC\n",
    "from sklearn.neighbors import KNeighborsClassifier\n",
    "from sklearn.naive_bayes import GaussianNB\n",
    "from sklearn.tree import DecisionTreeClassifier\n",
    "from sklearn.model_selection import GridSearchCV\n",
    "from sklearn.model_selection import ShuffleSplit\n",
    "from sklearn.model_selection import KFold\n",
    "from sklearn import feature_selection\n",
    "from sklearn import model_selection\n",
    "from sklearn import metrics\n",
    "from sklearn.metrics import classification_report, precision_recall_curve\n",
    "from sklearn.metrics import auc, roc_auc_score, roc_curve\n",
    "from sklearn.metrics import make_scorer, recall_score, log_loss\n",
    "from sklearn.metrics import average_precision_score\n",
    "data= pd.read_csv('BSDS_November.csv')#This dataset shall be substituted by the competition one\n",
    "\n",
    "data = data.assign(outcome=(data['Churn'] == 'Yes').astype(int))\n",
    "data = data.assign(genderbool=(data['gender'] == 'Female').astype(int))\n",
    "data = data.assign(Partnerbool=(data['Partner'] == 'Yes').astype(int))\n",
    "data = data.assign(PhoneServicebool=(data['PhoneService'] == 'Yes').astype(int))\n",
    "data=data.drop('Churn',axis=1)\n",
    "data=data.drop('gender',axis=1)\n",
    "data=data.drop('Partner',axis=1)\n",
    "data=data.drop('PhoneService',axis=1)\n",
    "\n",
    "data.TotalCharges=data.TotalCharges.replace(to_replace=' ',value=0.0).astype(float)\n",
    "mean=data.TotalCharges.mean()\n",
    "data.TotalCharges=data.TotalCharges.replace(to_replace=' ',value=mean).astype(float)\n",
    "\n",
    "y=data.outcome\n",
    "bsds_features=['genderbool', 'Partnerbool', 'PhoneServicebool', 'InternetService',\n",
    "               'OnlineSecurity', 'Contract', 'PaymentMethod', 'MonthlyCharges','TotalCharges'] \n",
    "X=data[bsds_features] \n",
    "\n",
    "object_cols=['InternetService','OnlineSecurity', 'Contract', 'PaymentMethod']\n",
    "\n",
    "OH_encoder = OneHotEncoder(handle_unknown='ignore', sparse=False)\n",
    "\n",
    "OH_cols = pd.DataFrame(OH_encoder.transform(X[object_cols]))\n",
    "\n",
    "OH_cols.index = X.index\n",
    "\n",
    "OH_cols_X = OH_cols.drop(object_cols, axis=1)\n",
    "\n",
    "forest_model_preds=forest_model.predict(OH_cols_X)\n",
    "\n",
    "logistic_model_preds=logistic_model.predict(OH_cols_X)\n",
    "\n",
    "XGB_model_preds=XGB_model.predict(OH_cols_X)\n",
    "\n",
    "final_predict=most_common_prediction(XGB_model_preds, logistic_model_preds,forest_model_preds)"
   ]
  }
 ],
 "metadata": {
  "kernelspec": {
   "display_name": "Python 3",
   "language": "python",
   "name": "python3"
  },
  "language_info": {
   "codemirror_mode": {
    "name": "ipython",
    "version": 3
   },
   "file_extension": ".py",
   "mimetype": "text/x-python",
   "name": "python",
   "nbconvert_exporter": "python",
   "pygments_lexer": "ipython3",
   "version": "3.8.3"
  }
 },
 "nbformat": 4,
 "nbformat_minor": 4
}
